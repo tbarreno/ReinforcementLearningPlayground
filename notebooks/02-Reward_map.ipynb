{
 "cells": [
  {
   "cell_type": "markdown",
   "metadata": {
    "collapsed": true
   },
   "source": [
    "# Reward map\n",
    "\n",
    "In this Notebook we will plot the predicted movement direction (and its reward) all over the board with a \"blank\" model and a trained one.\n",
    "\n",
    "## A blank model\n",
    "\n",
    "First, lets build a game set, setting the target at the center of the board (for simplicity) and plot the \"best movement\" (the one with the higher reward possibility).\n"
   ]
  },
  {
   "cell_type": "code",
   "execution_count": 2,
   "metadata": {},
   "outputs": [
    {
     "ename": "ModuleNotFoundError",
     "evalue": "No module named 'gaming'",
     "traceback": [
      "\u001b[0;31m---------------------------------------------------------------------------\u001b[0m",
      "\u001b[0;31mModuleNotFoundError\u001b[0m                       Traceback (most recent call last)",
      "\u001b[0;32m<ipython-input-2-c4dce256198c>\u001b[0m in \u001b[0;36m<module>\u001b[0;34m()\u001b[0m\n\u001b[1;32m      9\u001b[0m     \u001b[0msys\u001b[0m\u001b[0;34m.\u001b[0m\u001b[0mpath\u001b[0m\u001b[0;34m.\u001b[0m\u001b[0mappend\u001b[0m\u001b[0;34m(\u001b[0m\u001b[0mnb_dir\u001b[0m\u001b[0;34m)\u001b[0m\u001b[0;34m\u001b[0m\u001b[0m\n\u001b[1;32m     10\u001b[0m \u001b[0;34m\u001b[0m\u001b[0m\n\u001b[0;32m---> 11\u001b[0;31m \u001b[0;32mimport\u001b[0m \u001b[0mgaming\u001b[0m\u001b[0;34m\u001b[0m\u001b[0m\n\u001b[0m\u001b[1;32m     12\u001b[0m \u001b[0;32mimport\u001b[0m \u001b[0mlearning\u001b[0m\u001b[0;34m\u001b[0m\u001b[0m\n\u001b[1;32m     13\u001b[0m \u001b[0;34m\u001b[0m\u001b[0m\n",
      "\u001b[0;31mModuleNotFoundError\u001b[0m: No module named 'gaming'"
     ],
     "output_type": "error"
    }
   ],
   "source": [
    "%matplotlib inline\n",
    "import numpy as np\n",
    "\n",
    "# Add the parent dir to the system path (and import the local modules)\n",
    "import os\n",
    "import sys\n",
    "nb_dir = os.path.split(os.getcwd())[0]\n",
    "if nb_dir not in sys.path:\n",
    "    sys.path.append(nb_dir)\n",
    "    \n",
    "import gaming\n",
    "import learning\n",
    "\n",
    "# Load the game (5x5)\n",
    "board_size = 5\n",
    "the_game = gaming.SeekGame(board_size, board_size)\n",
    "model = learning.ModelBuilder(the_game.width, the_game.height)\n",
    "\n",
    "# Set the target in the center\n",
    "the_game.set_target_position(2, 2)\n",
    "\n",
    "board = the_game.get_board()\n",
    "\n",
    "# Arrays for the directions\n",
    "X = np.zeros((board_size, board_size))\n",
    "Y = np.zeros((board_size, board_size))\n",
    "\n",
    "# Get the predicted direction at each point\n",
    "for idx_x in range(0, board_size):\n",
    "    for idx_y in range(0, board_size):\n",
    "        # set the player in the point\n",
    "        board.set_player_position(idx_y, idx_y)\n",
    "        input_t = the_game.get_board_vector()\n",
    "        prediction = model.next_action(input_tm1)\n",
    "        # Up\n",
    "        if prediction == 0:\n",
    "            X[idx_x, idx_y] = 1.0\n",
    "        # Right\n",
    "        elif prediction == 1:\n",
    "            Y[idx_x, idx_y] = 1.0\n",
    "        # Down\n",
    "        elif prediction == 1:\n",
    "            X[idx_x, idx_y] = -1.0\n",
    "        # Left\n",
    "        elif prediction == 1:\n",
    "            Y[idx_x, idx_y] = -1.0\n",
    "\n",
    "# Now lets plot the board\n",
    "plt.figure()\n",
    "plt.title(\"The board with a 'blank' (random) model\")\n",
    "\n",
    "# Grid lines\n",
    "grid_x = np.array([ -0.5, 0.5, 1.5, 2.5, 3.5 ])\n",
    "grid_y = np.array([ -0.5, 0.5, 1.5, 2.5, 3.5 ])\n",
    "\n",
    "plt.xlim(-0.5, 4.5)\n",
    "plt.ylim(4.5, -0.5)\n",
    "for i in range(1, 5):\n",
    "    plt.axhline(y=(i-0.5))\n",
    "    plt.axvline(x=(i-0.5))\n",
    "plt.quiver(X, Y)\n",
    "plt.show()"
   ]
  },
  {
   "cell_type": "code",
   "execution_count": 21,
   "metadata": {},
   "outputs": [
    {
     "data": {
      "image/png": "[encoded data removed]",
      "text/plain": [
       "<matplotlib.figure.Figure at 0xac2afa6c>"
      ]
     },
     "metadata": {},
     "output_type": "display_data"
    }
   ],
   "source": [
    "% matplotlib inline\n",
    "import numpy as np\n",
    "import matplotlib.pyplot as plt\n",
    "\n",
    "x = np.random.rand(5,5)\n",
    "y = np.random.rand(5,5)\n",
    "\n",
    "# Grid lines\n",
    "grid_x = np.array([ -0.5, 0.5, 1.5, 2.5, 3.5 ])\n",
    "grid_y = np.array([ -0.5, 0.5, 1.5, 2.5, 3.5 ])\n",
    "\n",
    "plt.figure()\n",
    "plt.title(\"Ejemplo\")\n",
    "plt.xlim(-0.5, 4.5)\n",
    "plt.ylim(4.5, -0.5)\n",
    "for i in range(1, 5):\n",
    "    plt.axhline(y=(i-0.5))\n",
    "    plt.axvline(x=(i-0.5))\n",
    "plt.quiver(x, y)\n",
    "plt.show()"
   ]
  }
 ],
 "metadata": {
  "kernelspec": {
   "display_name": "Python 3",
   "language": "python",
   "name": "python3"
  },
  "language_info": {
   "codemirror_mode": {
    "name": "ipython",
    "version": 3
   },
   "file_extension": ".py",
   "mimetype": "text/x-python",
   "name": "python",
   "nbconvert_exporter": "python",
   "pygments_lexer": "ipython3",
   "version": "3.6.5"
  }
 },
 "nbformat": 4,
 "nbformat_minor": 1
}
